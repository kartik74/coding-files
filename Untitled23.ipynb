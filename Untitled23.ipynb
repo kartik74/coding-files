{
 "cells": [
  {
   "cell_type": "code",
   "execution_count": 25,
   "metadata": {},
   "outputs": [],
   "source": [
    "class Account:\n",
    "    trans_counter = itertools.count(100)\n",
    "    def __init__(self, acc_num, fname, lname):\n",
    "        self._acc_num = acc_num\n",
    "        self.fname = fname\n",
    "        self.lname = lname\n",
    "        \n",
    "        @property\n",
    "        def acc_num(self):\n",
    "            return self._acc_num\n",
    "        \n",
    "        @property\n",
    "        def fname(self):\n",
    "            return self._fname\n",
    "        \n",
    "        @fname.setter\n",
    "        def fname(self, val):\n",
    "            self._fname = Account.val_name(val, 'f_name')\n",
    "            \n",
    "        @property\n",
    "        def lname(self):\n",
    "            return self._lname\n",
    "        \n",
    "        @lname.setter\n",
    "        def lname(self, val):\n",
    "            self._lname = Account.val_name(val, 'l_name')\n",
    "            \n",
    "        @staticmethod   \n",
    "        def val_name(val, field_title):\n",
    "            if len(str(val).strip()) == 0:\n",
    "                raise ValueError(f'{field_title} cant be empty.')\n",
    "            return str(val).strip()\n",
    "        \n",
    "        "
   ]
  },
  {
   "cell_type": "code",
   "execution_count": 26,
   "metadata": {},
   "outputs": [],
   "source": [
    "import itertools"
   ]
  },
  {
   "cell_type": "code",
   "execution_count": 27,
   "metadata": {},
   "outputs": [],
   "source": [
    "a = Account('12345', 'john', '')"
   ]
  },
  {
   "cell_type": "code",
   "execution_count": 28,
   "metadata": {},
   "outputs": [],
   "source": [
    "try:\n",
    "    a = Account('12345', 'john', '')\n",
    "except ValueError as ex:\n",
    "    print(ex)"
   ]
  },
  {
   "cell_type": "code",
   "execution_count": null,
   "metadata": {},
   "outputs": [],
   "source": []
  }
 ],
 "metadata": {
  "kernelspec": {
   "display_name": "Python 3",
   "language": "python",
   "name": "python3"
  },
  "language_info": {
   "codemirror_mode": {
    "name": "ipython",
    "version": 3
   },
   "file_extension": ".py",
   "mimetype": "text/x-python",
   "name": "python",
   "nbconvert_exporter": "python",
   "pygments_lexer": "ipython3",
   "version": "3.9.0"
  }
 },
 "nbformat": 4,
 "nbformat_minor": 4
}
