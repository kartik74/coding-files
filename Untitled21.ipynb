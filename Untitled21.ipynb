{
 "cells": [
  {
   "cell_type": "code",
   "execution_count": 5,
   "metadata": {},
   "outputs": [
    {
     "ename": "NameError",
     "evalue": "name 'person_schema' is not defined",
     "output_type": "error",
     "traceback": [
      "\u001b[1;31m---------------------------------------------------------------------------\u001b[0m",
      "\u001b[1;31mNameError\u001b[0m                                 Traceback (most recent call last)",
      "\u001b[1;32m<ipython-input-5-acdc380fefcc>\u001b[0m in \u001b[0;36m<module>\u001b[1;34m\u001b[0m\n\u001b[1;32m----> 1\u001b[1;33m person_schema.load(dict(f_name='john',\n\u001b[0m\u001b[0;32m      2\u001b[0m                        \u001b[0ml_name\u001b[0m\u001b[1;33m=\u001b[0m\u001b[1;34m'cheese'\u001b[0m\u001b[1;33m,\u001b[0m\u001b[1;33m\u001b[0m\u001b[1;33m\u001b[0m\u001b[0m\n\u001b[0;32m      3\u001b[0m                        \u001b[0mdob\u001b[0m\u001b[1;33m=\u001b[0m\u001b[1;34m'1978-10-15'\u001b[0m\u001b[1;33m,\u001b[0m\u001b[1;33m\u001b[0m\u001b[1;33m\u001b[0m\u001b[0m\n\u001b[0;32m      4\u001b[0m                        height=178))\n",
      "\u001b[1;31mNameError\u001b[0m: name 'person_schema' is not defined"
     ]
    }
   ],
   "source": [
    "person_schema.load(dict(f_name='john',\n",
    "                       l_name='cheese',\n",
    "                       dob='1978-10-15',\n",
    "                       height=178))"
   ]
  },
  {
   "cell_type": "code",
   "execution_count": 1,
   "metadata": {},
   "outputs": [],
   "source": [
    "from marshmallow import Schema, fields"
   ]
  },
  {
   "cell_type": "code",
   "execution_count": 6,
   "metadata": {},
   "outputs": [],
   "source": [
    "class PersonSchema(Schema):\n",
    "    f_name=fields.Str()\n",
    "    l_name=fields.Str()\n",
    "    dob=fields.Date()\n",
    "    height=fields.Int()\n",
    "    "
   ]
  },
  {
   "cell_type": "code",
   "execution_count": 7,
   "metadata": {},
   "outputs": [
    {
     "ename": "NameError",
     "evalue": "name 'person_schema' is not defined",
     "output_type": "error",
     "traceback": [
      "\u001b[1;31m---------------------------------------------------------------------------\u001b[0m",
      "\u001b[1;31mNameError\u001b[0m                                 Traceback (most recent call last)",
      "\u001b[1;32m<ipython-input-7-acdc380fefcc>\u001b[0m in \u001b[0;36m<module>\u001b[1;34m\u001b[0m\n\u001b[1;32m----> 1\u001b[1;33m person_schema.load(dict(f_name='john',\n\u001b[0m\u001b[0;32m      2\u001b[0m                        \u001b[0ml_name\u001b[0m\u001b[1;33m=\u001b[0m\u001b[1;34m'cheese'\u001b[0m\u001b[1;33m,\u001b[0m\u001b[1;33m\u001b[0m\u001b[1;33m\u001b[0m\u001b[0m\n\u001b[0;32m      3\u001b[0m                        \u001b[0mdob\u001b[0m\u001b[1;33m=\u001b[0m\u001b[1;34m'1978-10-15'\u001b[0m\u001b[1;33m,\u001b[0m\u001b[1;33m\u001b[0m\u001b[1;33m\u001b[0m\u001b[0m\n\u001b[0;32m      4\u001b[0m                        height=178))\n",
      "\u001b[1;31mNameError\u001b[0m: name 'person_schema' is not defined"
     ]
    }
   ],
   "source": [
    "person_schema.load(dict(f_name='john',\n",
    "                       l_name='cheese',\n",
    "                       dob='1978-10-15',\n",
    "                       height=178))"
   ]
  },
  {
   "cell_type": "code",
   "execution_count": null,
   "metadata": {},
   "outputs": [],
   "source": []
  }
 ],
 "metadata": {
  "kernelspec": {
   "display_name": "Python 3",
   "language": "python",
   "name": "python3"
  },
  "language_info": {
   "codemirror_mode": {
    "name": "ipython",
    "version": 3
   },
   "file_extension": ".py",
   "mimetype": "text/x-python",
   "name": "python",
   "nbconvert_exporter": "python",
   "pygments_lexer": "ipython3",
   "version": "3.9.0"
  }
 },
 "nbformat": 4,
 "nbformat_minor": 4
}
